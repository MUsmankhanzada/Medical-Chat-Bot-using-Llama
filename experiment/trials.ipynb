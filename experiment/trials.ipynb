{
 "cells": [
  {
   "cell_type": "code",
   "execution_count": 23,
   "id": "c29ea992",
   "metadata": {},
   "outputs": [],
   "source": [
    "from langchain import PromptTemplate\n",
    "from langchain.chains import RetrievalQA\n",
    "from langchain.embeddings import HuggingFaceEmbeddings\n",
    "import chromadb\n",
    "from langchain.document_loaders import PyPDFLoader, DirectoryLoader\n",
    "from langchain.text_splitter import RecursiveCharacterTextSplitter\n",
    "from langchain.prompts import PromptTemplate\n",
    "from langchain.llms import ctransformers\n",
    "\n"
   ]
  },
  {
   "cell_type": "code",
   "execution_count": 25,
   "id": "b185241f",
   "metadata": {},
   "outputs": [],
   "source": [
    "from langchain_pinecone.embeddings import PineconeEmbeddings\n",
    "from langchain_pinecone.vectorstores import PineconeVectorStore\n",
    "from pinecone import Pinecone"
   ]
  },
  {
   "cell_type": "code",
   "execution_count": 11,
   "id": "33f51d19",
   "metadata": {},
   "outputs": [],
   "source": [
    "# !pip install pypdf"
   ]
  },
  {
   "cell_type": "code",
   "execution_count": 12,
   "id": "b7bc5ef9",
   "metadata": {},
   "outputs": [],
   "source": [
    "def load_pdf(data):\n",
    "    loader = DirectoryLoader(data,\n",
    "                             glob = \"*.pdf\",\n",
    "                             loader_cls = PyPDFLoader)\n",
    "    documents = loader.load()\n",
    "    \n",
    "    return documents"
   ]
  },
  {
   "cell_type": "code",
   "execution_count": 13,
   "id": "e3d638af",
   "metadata": {},
   "outputs": [],
   "source": [
    "extracted_text = load_pdf(\"D:\\Medical-Chat-Bot-using-Llama\\data\")"
   ]
  },
  {
   "cell_type": "code",
   "execution_count": 9,
   "id": "7fba52eb",
   "metadata": {},
   "outputs": [],
   "source": [
    "#extracted_text"
   ]
  },
  {
   "cell_type": "code",
   "execution_count": 6,
   "id": "a18cbd84",
   "metadata": {},
   "outputs": [
    {
     "name": "stdout",
     "output_type": "stream",
     "text": [
      "✅ Downloaded to: ./models\\models--jlallas--Meta-Llama-3-8B-Instruct-Q4_K_M-GGUF\\snapshots\\e05e01f6dfd1aff3c39778d049aa351b233c7439\\meta-llama-3-8b-instruct-q4_k_m.gguf\n"
     ]
    }
   ],
   "source": [
    "from huggingface_hub import hf_hub_download\n",
    "\n",
    "model_path = hf_hub_download(\n",
    "    repo_id=\"jlallas/Meta-Llama-3-8B-Instruct-Q4_K_M-GGUF\",\n",
    "    filename=\"meta-llama-3-8b-instruct-q4_k_m.gguf\",\n",
    "    cache_dir=\"./models\"\n",
    ")\n",
    "print(\"✅ Downloaded to:\", model_path)\n"
   ]
  },
  {
   "cell_type": "code",
   "execution_count": 49,
   "id": "8c7e014d",
   "metadata": {},
   "outputs": [],
   "source": [
    "from langchain_community.embeddings import HuggingFaceEmbeddings\n",
    "\n",
    "def download_huggingface_embedings():\n",
    "    embeddings = HuggingFaceEmbeddings(\n",
    "        model_name=\"sentence-transformers/all-MiniLM-L6-v2\")\n",
    "    return embeddings\n"
   ]
  },
  {
   "cell_type": "code",
   "execution_count": 50,
   "id": "9fd48ad9",
   "metadata": {},
   "outputs": [
    {
     "name": "stderr",
     "output_type": "stream",
     "text": [
      "C:\\Users\\Dell\\AppData\\Local\\Temp\\ipykernel_2624\\1412518668.py:4: LangChainDeprecationWarning: The class `HuggingFaceEmbeddings` was deprecated in LangChain 0.2.2 and will be removed in 1.0. An updated version of the class exists in the langchain-huggingface package and should be used instead. To use it run `pip install -U langchain-huggingface` and import as `from langchain_huggingface import HuggingFaceEmbeddings`.\n",
      "  embeddings = HuggingFaceEmbeddings(\n",
      "Unclosed client session\n",
      "client_session: <aiohttp.client.ClientSession object at 0x000001E2DEC165E0>\n",
      "Unclosed client session\n",
      "client_session: <aiohttp.client.ClientSession object at 0x000001E2DCD43A90>\n",
      "Unclosed client session\n",
      "client_session: <aiohttp.client.ClientSession object at 0x000001E2DD7A05E0>\n",
      "Unclosed client session\n",
      "client_session: <aiohttp.client.ClientSession object at 0x000001E2D99A9730>\n",
      "Unclosed client session\n",
      "client_session: <aiohttp.client.ClientSession object at 0x000001E2D99A9460>\n",
      "Unclosed client session\n",
      "client_session: <aiohttp.client.ClientSession object at 0x000001E2D818D760>\n",
      "Xet Storage is enabled for this repo, but the 'hf_xet' package is not installed. Falling back to regular HTTP download. For better performance, install the package with: `pip install huggingface_hub[hf_xet]` or `pip install hf_xet`\n"
     ]
    }
   ],
   "source": [
    "embeddings = download_huggingface_embedings()\n"
   ]
  },
  {
   "cell_type": "code",
   "execution_count": 51,
   "id": "d8d2f2ae",
   "metadata": {},
   "outputs": [
    {
     "data": {
      "text/plain": [
       "HuggingFaceEmbeddings(client=SentenceTransformer(\n",
       "  (0): Transformer({'max_seq_length': 256, 'do_lower_case': False}) with Transformer model: BertModel \n",
       "  (1): Pooling({'word_embedding_dimension': 384, 'pooling_mode_cls_token': False, 'pooling_mode_mean_tokens': True, 'pooling_mode_max_tokens': False, 'pooling_mode_mean_sqrt_len_tokens': False, 'pooling_mode_weightedmean_tokens': False, 'pooling_mode_lasttoken': False, 'include_prompt': True})\n",
       "  (2): Normalize()\n",
       "), model_name='sentence-transformers/all-MiniLM-L6-v2', cache_folder=None, model_kwargs={}, encode_kwargs={}, multi_process=False, show_progress=False)"
      ]
     },
     "execution_count": 51,
     "metadata": {},
     "output_type": "execute_result"
    }
   ],
   "source": [
    "embeddings"
   ]
  },
  {
   "cell_type": "code",
   "execution_count": null,
   "id": "d5ef000a",
   "metadata": {},
   "outputs": [],
   "source": [
    "# result = embeddings.embed_query(\"Hello, world! How are you?\")\n",
    "# print(result)\n"
   ]
  },
  {
   "cell_type": "code",
   "execution_count": null,
   "id": "f405d20c",
   "metadata": {},
   "outputs": [],
   "source": [
    "def text_splitter(extracted_text):\n",
    "    text_split = RecursiveCharacterTextSplitter(chunk_size=700, chunk_overlap=50)\n",
    "    return text_split.split_documents(extracted_data)\n"
   ]
  },
  {
   "cell_type": "code",
   "execution_count": 15,
   "id": "2664178b",
   "metadata": {},
   "outputs": [],
   "source": [
    "text_chunks = text_splitter(extracted_text)"
   ]
  },
  {
   "cell_type": "code",
   "execution_count": null,
   "id": "314e986a",
   "metadata": {},
   "outputs": [
    {
     "data": {
      "text/plain": [
       "4251"
      ]
     },
     "execution_count": 18,
     "metadata": {},
     "output_type": "execute_result"
    }
   ],
   "source": [
    "len(text_chunks)"
   ]
  },
  {
   "cell_type": "code",
   "execution_count": null,
   "id": "9861b961",
   "metadata": {},
   "outputs": [],
   "source": [
    "# text_chunks\n",
    "from dotenv import load_dotenv\n",
    "import os\n",
    "load_dotenv()\n",
    "PINECONE_API_KEY = os.getenv(\"PINECONE_API_KEY\")\n",
    "# print(PINECONE_API_KEY)"
   ]
  },
  {
   "cell_type": "code",
   "execution_count": 78,
   "id": "b0c5e3d4",
   "metadata": {},
   "outputs": [],
   "source": [
    "\n",
    "pc = Pinecone(api_key=PINECONE_API_KEY)\n",
    "index = pc.Index(\"medical-bot\")\n"
   ]
  },
  {
   "cell_type": "code",
   "execution_count": 71,
   "id": "58a2633c",
   "metadata": {},
   "outputs": [],
   "source": [
    "vector_store = PineconeVectorStore(index=index, embedding=embeddings)"
   ]
  },
  {
   "cell_type": "code",
   "execution_count": 72,
   "id": "1d444e00",
   "metadata": {},
   "outputs": [],
   "source": [
    "from uuid import uuid4\n",
    "uuids = [str(uuid4()) for _ in range(len(text_chunks))]"
   ]
  },
  {
   "cell_type": "code",
   "execution_count": null,
   "id": "e453019c",
   "metadata": {},
   "outputs": [],
   "source": [
    "vector_store.add_documents(documents=text_chunks, ids=uuids)"
   ]
  },
  {
   "cell_type": "code",
   "execution_count": null,
   "id": "23ba9eef",
   "metadata": {},
   "outputs": [],
   "source": [
    "g\n"
   ]
  }
 ],
 "metadata": {
  "kernelspec": {
   "display_name": "Python 3",
   "language": "python",
   "name": "python3"
  },
  "language_info": {
   "codemirror_mode": {
    "name": "ipython",
    "version": 3
   },
   "file_extension": ".py",
   "mimetype": "text/x-python",
   "name": "python",
   "nbconvert_exporter": "python",
   "pygments_lexer": "ipython3",
   "version": "3.8.20"
  }
 },
 "nbformat": 4,
 "nbformat_minor": 5
}
